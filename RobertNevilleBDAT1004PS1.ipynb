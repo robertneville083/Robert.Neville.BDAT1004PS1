{
 "cells": [
  {
   "cell_type": "markdown",
   "metadata": {},
   "source": [
    "# Robert Neville BDAT 1004 Assignment 1."
   ]
  },
  {
   "cell_type": "code",
   "execution_count": 46,
   "metadata": {},
   "outputs": [],
   "source": [
    "#imports\n",
    "import math"
   ]
  },
  {
   "cell_type": "markdown",
   "metadata": {},
   "source": [
    "## Question 1.\n",
    "### The data types are as follows.\n",
    "#### Pi (the number) if ran as is has no datatype - it is an error.  But if it were you'd have to likely use a float approximation of it - a computer cannot use irrationals."
   ]
  },
  {
   "cell_type": "code",
   "execution_count": 16,
   "metadata": {},
   "outputs": [
    {
     "name": "stdout",
     "output_type": "stream",
     "text": [
      "<class 'int'>\n",
      "<class 'float'>\n",
      "<class 'bool'>\n",
      "<class 'str'>\n",
      "<class 'int'>\n",
      "<class 'str'>\n",
      "<class 'str'>\n",
      "<class 'float'>\n",
      "<class 'int'>\n",
      "<class 'set'>\n",
      "<class 'bool'>\n"
     ]
    }
   ],
   "source": [
    "print(type(5))\n",
    "print(type(5.0))\n",
    "print(type(5 > 1))\n",
    "print(type('5'))\n",
    "print(type(5 * 2))\n",
    "print(type('5' * 2))\n",
    "print(type('5' + '2'))\n",
    "print(type(5 / 2))\n",
    "print(type(5 % 2))\n",
    "print(type({5, 2, 1}))\n",
    "print(type(5 == 3))"
   ]
  },
  {
   "cell_type": "markdown",
   "metadata": {},
   "source": [
    "## Question 2."
   ]
  },
  {
   "cell_type": "code",
   "execution_count": 44,
   "metadata": {
    "scrolled": true
   },
   "outputs": [
    {
     "name": "stdout",
     "output_type": "stream",
     "text": [
      "34\n",
      "True\n",
      "Supercalifragilisticexpialidocious\n",
      "Bababadalgharaghtakamminarronnkonn\n",
      "Bartok\n",
      "Buxtehude\n"
     ]
    }
   ],
   "source": [
    "print(len('Supercalifragilisticexpialidocious'))\n",
    "print('ice' in 'Supercalifragilisticexpialidocious')\n",
    "#define our 3 words' lengths as a list\n",
    "l = ['Supercalifragilisticexpialidocious', 'Honorificabilitudinitatibus', 'Bababadalgharaghtakamminarronnkonn']\n",
    "l1 = [len('Supercalifragilisticexpialidocious'), len('Honorificabilitudinitatibus'), len('Bababadalgharaghtakamminarronnkonn')]\n",
    "for n in range(0,3):\n",
    "    if l1[n] == max(l1):\n",
    "        print(l[n])\n",
    "l2 = ['Berlioz', 'Borodin', 'Brian', 'Bartok', 'Bellini', 'Buxtehude', 'Bernstein']\n",
    "l2.sort()\n",
    "print(l2[0])\n",
    "print(l2[-1])"
   ]
  },
  {
   "cell_type": "markdown",
   "metadata": {},
   "source": [
    "## Question 3."
   ]
  },
  {
   "cell_type": "code",
   "execution_count": 47,
   "metadata": {},
   "outputs": [
    {
     "data": {
      "text/plain": [
       "1.7320508075688772"
      ]
     },
     "execution_count": 47,
     "metadata": {},
     "output_type": "execute_result"
    }
   ],
   "source": [
    "def triangleArea(a, b, c):\n",
    "    s = (a + b + c)/2\n",
    "    area = math.sqrt(s*(s - a)*(s - b)*(s - c))\n",
    "    return area\n",
    "\n",
    "triangleArea(2, 2, 2)"
   ]
  },
  {
   "cell_type": "markdown",
   "metadata": {},
   "source": [
    "## Question 4."
   ]
  },
  {
   "cell_type": "code",
   "execution_count": 69,
   "metadata": {
    "scrolled": true
   },
   "outputs": [
    {
     "name": "stdout",
     "output_type": "stream",
     "text": [
      "Input the number of elements to be stored in the array: 5\n",
      "Input 5 elements in the array :\n",
      "element - 0: 25\n",
      "element - 1: 47\n",
      "element - 2: 42\n",
      "element - 3: 56\n",
      "element - 4: 32\n",
      "The even numbers are:[42, 56, 32]\n",
      "The even numbers are:[25, 47]\n"
     ]
    }
   ],
   "source": [
    "#initialize\n",
    "even = []\n",
    "odd = []\n",
    "startingArray = []\n",
    "\n",
    "#create\n",
    "n = int(input('Input the number of elements to be stored in the array: '))\n",
    "print('Input ' + str(n) + ' elements in the array :')\n",
    "for i in range(0,n):\n",
    "    startingArray.append(int(input('element - ' + str(i) + ': ')))\n",
    "    \n",
    "#sort   \n",
    "for k in startingArray:\n",
    "    if k%2 == 1:\n",
    "        odd.append(k)\n",
    "    else:\n",
    "        even.append(k)\n",
    "        \n",
    "#output\n",
    "print('The even numbers are:' + str(even))\n",
    "print('The even numbers are:' + str(odd))"
   ]
  },
  {
   "cell_type": "markdown",
   "metadata": {},
   "source": [
    "## Question 5."
   ]
  },
  {
   "cell_type": "code",
   "execution_count": 81,
   "metadata": {},
   "outputs": [
    {
     "name": "stdout",
     "output_type": "stream",
     "text": [
      "True\n",
      "False\n",
      "False\n"
     ]
    }
   ],
   "source": [
    "def inside(x,y,x1,y1,x2,y2):\n",
    "    \n",
    "    if x > x1 and x < x2 and y > y1 and y < y2:\n",
    "        return True\n",
    "    else:\n",
    "        return False\n",
    "\n",
    "    #I am using open intervals here - a point on the perimeter is not \"inside\".\n",
    "    \n",
    "print(inside(1,1,0,0,2,3))\n",
    "print(inside(-1,-1,0,0,2,3))\n",
    "print(inside(1,1,0.3,0.5,1.1,0.7) and inside(1,1,0.5,0.2,1.1,2))"
   ]
  },
  {
   "cell_type": "markdown",
   "metadata": {},
   "source": [
    "## Question 6."
   ]
  },
  {
   "cell_type": "code",
   "execution_count": 116,
   "metadata": {},
   "outputs": [
    {
     "name": "stdout",
     "output_type": "stream",
     "text": [
      "appyhay\n",
      "enterway\n"
     ]
    }
   ],
   "source": [
    "def pig(word):\n",
    "    \n",
    "    vowels = 'aeiou'\n",
    "    word2 = word.lower()\n",
    "    if word2[0] in vowels: #detect if first letter is a vowel\n",
    "        wordPig = word2 + 'way'\n",
    "    else:\n",
    "        wordPig = word2[1:len(word2)] + word2[0] + 'ay'\n",
    "        \n",
    "    return wordPig\n",
    "\n",
    "print(pig('happy'))\n",
    "print(pig('Enter'))"
   ]
  },
  {
   "cell_type": "markdown",
   "metadata": {},
   "source": [
    "## Question 7."
   ]
  },
  {
   "cell_type": "code",
   "execution_count": 158,
   "metadata": {},
   "outputs": [
    {
     "name": "stdout",
     "output_type": "stream",
     "text": [
      "There are/is 10 patient(s) with blood type A \n",
      "There are/is 1 patient(s) with blood type B \n",
      "There are/is 10 patient(s) with blood type AB \n",
      "There are/is 12 patient(s) with blood type O \n",
      "There are/is 0 patient(s) with blood type OO \n"
     ]
    }
   ],
   "source": [
    "def bldcount(filelocation): #'bloodtype1.txt'\n",
    "    bloodtype = open(filelocation, 'rt')\n",
    "    types = str(bloodtype.readlines())\n",
    "    typelist = [' A ', ' B ', ' AB ', ' O ', ' OO '] #jank but functional\n",
    "    typecount = [] #initialize\n",
    "    for s in typelist:\n",
    "        typecount.append(types.count(s))\n",
    "        print('There are/is ' + str(typecount[typelist.index(s)]) + ' patient(s) with blood type' + s)\n",
    "\n",
    "bldcount('bloodtype1.txt')\n"
   ]
  },
  {
   "cell_type": "markdown",
   "metadata": {},
   "source": [
    "## Question 8."
   ]
  },
  {
   "cell_type": "code",
   "execution_count": 215,
   "metadata": {},
   "outputs": [
    {
     "name": "stdout",
     "output_type": "stream",
     "text": [
      "122.96544\n",
      "1.2414\n"
     ]
    }
   ],
   "source": [
    "def curconv(currency, amount):\n",
    "    ctable = open('currencies.txt', 'rt')\n",
    "    craw = ctable.readlines() #raw table, with lots of garbage.  we need to process it.\n",
    "    ctypes = [] #initialize\n",
    "    cvals = [] \n",
    "    for i in range(0,len(craw)): #create internal lookup table\n",
    "        ctypes.append(craw[i][0:3])\n",
    "        cvals.append(float(craw[i][4:13])) #A consequence of this method is the identical decimal points.  Such is the nature of non standardized data.\n",
    "    \n",
    "    totalvalue = cvals[ctypes.index(currency)] * amount\n",
    "    return totalvalue\n",
    "\n",
    "print(curconv('EUR', 100))\n",
    "print(curconv('JPY', 100))"
   ]
  },
  {
   "cell_type": "markdown",
   "metadata": {},
   "source": [
    "## Question 9."
   ]
  },
  {
   "cell_type": "markdown",
   "metadata": {},
   "source": [
    "a) Syntax Error: invalid character in identifier\n",
    "b) Index Error: list index out of range\n",
    "c) Value Error: math domain error\n",
    "d) Name Error: name 'x' is not defined\n",
    "e) File Not Found Error: No such file or directory"
   ]
  },
  {
   "cell_type": "markdown",
   "metadata": {},
   "source": [
    "## Question 10."
   ]
  },
  {
   "cell_type": "code",
   "execution_count": 225,
   "metadata": {},
   "outputs": [
    {
     "data": {
      "text/plain": [
       "[0, 0, 0, 0, 0, 0, 0, 1, 1, 0, 0, 0, 0, 0, 0, 0, 0, 0, 0, 0, 0, 0, 0, 0, 0, 0]"
      ]
     },
     "execution_count": 225,
     "metadata": {},
     "output_type": "execute_result"
    }
   ],
   "source": [
    "letters = ('abcdefghijklmnopqrstuvwxyz')\n",
    "\n",
    "def frequencies(text):\n",
    "    text.lower()\n",
    "    freq = [] #initialize\n",
    "    for i in letters:\n",
    "        freq.append(text.count(i))\n",
    "    \n",
    "    return(freq)\n",
    "\n",
    "frequencies('hi')"
   ]
  },
  {
   "cell_type": "code",
   "execution_count": null,
   "metadata": {},
   "outputs": [],
   "source": []
  }
 ],
 "metadata": {
  "kernelspec": {
   "display_name": "Python 3",
   "language": "python",
   "name": "python3"
  },
  "language_info": {
   "codemirror_mode": {
    "name": "ipython",
    "version": 3
   },
   "file_extension": ".py",
   "mimetype": "text/x-python",
   "name": "python",
   "nbconvert_exporter": "python",
   "pygments_lexer": "ipython3",
   "version": "3.8.5"
  }
 },
 "nbformat": 4,
 "nbformat_minor": 4
}
